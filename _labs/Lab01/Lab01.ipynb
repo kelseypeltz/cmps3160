{
  "cells": [
    {
      "cell_type": "markdown",
      "metadata": {
        "id": "OgRbAZj42bXE"
      },
      "source": [
        "# Lab 01: Getting Started\n",
        "\n",
        "In this lab, we will walk through configuring Google Colab so that you can download the starter code for each lab, run and edit code, and then save and submit it.\n",
        "\n",
        "Colab is a cloud-based solution that allows you to run Python and Jupyter notebooks from your browser, without having to configure anything on your personal computer. \n",
        "\n",
        "Before continuing with this notebook, please first complete this brief tutorial: [Overview of Colab](https://colab.research.google.com/notebooks/basic_features_overview.ipynb)\n"
      ]
    },
    {
      "cell_type": "markdown",
      "metadata": {
        "id": "vqvARlqY6fn0"
      },
      "source": [
        "<hr>\n",
        "\n",
        "## Command-line\n",
        "\n",
        "Welcome back!\n",
        "\n",
        "What Colab does is create a [virtual machine](https://en.wikipedia.org/wiki/Virtual_machine), which is like a fresh install of an operating system made just for you.\n",
        "\n",
        "This means that in addition to running Python code in this notebook, you can also interact with the command-line as if you were using a terminal to navigate a computer. If you have never used the command-line before, it is worth reading through [this tutorial](https://computers.tutsplus.com/tutorials/navigating-the-terminal-a-gentle-introduction--mac-3855). \n",
        "\n",
        "Notebooks also allow you to run shell commands by preceding the command with a `!`. \n",
        "\n",
        "For example, the command below will list the current working directory where this notebook is running.\n"
      ]
    },
    {
      "cell_type": "code",
      "execution_count": null,
      "metadata": {
        "colab": {
          "base_uri": "https://localhost:8080/"
        },
        "id": "Zfh7PMlQ16_U",
        "outputId": "7f5608f0-50bc-47b2-de23-ddad593955e9"
      },
      "outputs": [],
      "source": [
        "!pwd"
      ]
    },
    {
      "cell_type": "markdown",
      "metadata": {
        "id": "2QY0FG5C7hul"
      },
      "source": [
        "And the following command will list information about the operating system that this notebook is running on. Note that the `cat` command prints the contents of a file. So, this is printing the contents of all files in the `/etc/` folder that end in the word `release,` which is where Linux distributions store OS information."
      ]
    },
    {
      "cell_type": "code",
      "execution_count": null,
      "metadata": {
        "colab": {
          "base_uri": "https://localhost:8080/"
        },
        "id": "qMwA25g46QmC",
        "outputId": "52cde2c3-48e7-485e-da5b-3935d1331b13"
      },
      "outputs": [],
      "source": [
        "!cat /etc/*release "
      ]
    },
    {
      "cell_type": "markdown",
      "metadata": {
        "id": "fpjJEUhQ72km"
      },
      "source": [
        "This tells us that we are running Ubuntu, a Linux distribution, and also says what version we're running.\n"
      ]
    },
    {
      "cell_type": "markdown",
      "metadata": {
        "id": "VIGZicY18Jdi"
      },
      "source": [
        "## Downloading starter code\n",
        "\n",
        "Next, we'll walk through how to download the starter code from the course GitHub repository. The steps are:\n",
        "\n",
        "1. Mount your personal Google drive inside this virtual machine so you can write to your drive from this notebook.\n",
        "2. Change the current working directory to the root folder of your Google drive.\n",
        "3. Clone the repository from GitHub into this folder.\n",
        "\n"
      ]
    },
    {
      "cell_type": "code",
      "execution_count": null,
      "metadata": {
        "id": "L2SjkbqXHkxO"
      },
      "outputs": [],
      "source": [
        "# Mount our personal google drive. This will pop up a \n",
        "# confirmation screen giving this notebook access to your Google drive.\n",
        "# You will first need a gmail account for this to work.\n",
        "from google.colab import drive\n",
        "drive.mount('/content/drive')"
      ]
    },
    {
      "cell_type": "markdown",
      "metadata": {
        "id": "LCHIXfGS02xa"
      },
      "source": [
        "You should now see the contents of your Google drive by navigating to the folder icon in the left panel. It is viewable at `/content/drive/MyDrive`.\n",
        "\n",
        "To list the contents of a folder, you can use the `ls` command. This should list the contents of the root folder of your Google drive."
      ]
    },
    {
      "cell_type": "code",
      "execution_count": null,
      "metadata": {
        "id": "0aW9AGXI9GBG"
      },
      "outputs": [],
      "source": [
        "!ls /content/drive/MyDrive"
      ]
    },
    {
      "cell_type": "markdown",
      "metadata": {
        "id": "1gg8RMZQ2DM5"
      },
      "source": [
        "To change the current working directory to be the location of your Google drive, we will issue a `cd` command preceded by the % symbol. The difference between ! and % is that % will actually have a persistent effect on the notebook."
      ]
    },
    {
      "cell_type": "code",
      "execution_count": null,
      "metadata": {
        "colab": {
          "base_uri": "https://localhost:8080/"
        },
        "id": "6KhZtg8jJEln",
        "outputId": "99cef395-b881-463a-e2d8-ad6f38fd1731"
      },
      "outputs": [],
      "source": [
        "%cd /content/drive/My Drive"
      ]
    },
    {
      "cell_type": "code",
      "execution_count": null,
      "metadata": {
        "colab": {
          "base_uri": "https://localhost:8080/"
        },
        "id": "W-gcPuCT2Xnl",
        "outputId": "633f6325-6a86-4384-9c2f-14f535238f51"
      },
      "outputs": [],
      "source": [
        "!pwd"
      ]
    },
    {
      "cell_type": "markdown",
      "metadata": {
        "id": "NeiZgi1-3Wuh"
      },
      "source": [
        "Our next task is to clone the course repository and store it into our personal Google drive. The course repository is viewable here: <https://github.com/nmattei/cmps3160>.\n",
        "\n",
        "\n",
        "If you have never used GitHub before, git is one of the most widely used version control management systems today, and invaluable when working in a team. GitHub is a web-based hosting service built around git that supports hosting git repositories, user management, etc. There are other similar services, e.g., BitBucket and GitLab.\n",
        "\n",
        "We will use GitHub to distribute the assignments, and other class materials. Our use of git/github for the class will be minimal; however, we encourage you to use it for collaboration for your class project, or for other classes, or for anything because it's great. To learn more about GitHub, see [this tutorial](https://docs.github.com/en/get-started/quickstart/hello-world). Note -- you don't need to do that tutorial to complete this notebook.\n",
        "\n",
        "\n",
        "The main thing we want to do is clone the course files into this Colab virtual machine. To do so, we will issue a `git clone` command. This will copy all the files from the course Github to our drive."
      ]
    },
    {
      "cell_type": "code",
      "execution_count": null,
      "metadata": {
        "colab": {
          "base_uri": "https://localhost:8080/"
        },
        "id": "YWio-hRe3njP",
        "outputId": "99ccdd7b-f25f-4e81-9ae1-caf207a90d24"
      },
      "outputs": [],
      "source": [
        "!git clone https://github.com/nmattei/cmps3160.git"
      ]
    },
    {
      "cell_type": "markdown",
      "metadata": {
        "id": "uP-d2gYjINjc"
      },
      "source": [
        "You should now be able to list the contents of the new folder `/content/drive/My Drive/cmps3160`, which contains all the course code and data."
      ]
    },
    {
      "cell_type": "code",
      "execution_count": null,
      "metadata": {
        "colab": {
          "base_uri": "https://localhost:8080/"
        },
        "id": "svt_gkyQ35w2",
        "outputId": "9e6424f5-d2a2-484e-8010-0c01965b6e08"
      },
      "outputs": [],
      "source": [
        "!ls cmps3160"
      ]
    },
    {
      "cell_type": "markdown",
      "metadata": {
        "id": "V7Kj7hV1Yu36"
      },
      "source": [
        "Additionally, if you browse your Google drive as you normally would, you should see the new `cmps3160` folder there.\n",
        "\n",
        "<br>\n",
        "\n",
        "\n",
        "Now let's change directories to the cmps3160 folder."
      ]
    },
    {
      "cell_type": "code",
      "execution_count": null,
      "metadata": {
        "colab": {
          "base_uri": "https://localhost:8080/"
        },
        "id": "EpyqzXTB9cyt",
        "outputId": "c50c7c1c-9937-4d16-af44-a5d0b11c5081"
      },
      "outputs": [],
      "source": [
        "%cd cmps3160"
      ]
    },
    {
      "cell_type": "markdown",
      "metadata": {
        "id": "V3xODNszYxXh"
      },
      "source": [
        "Before starting work on any of the course assignments, it is a good idea to make sure you have the most up-to-date files from GitHub. For example, if on the extremely rare occasion the instructors make a mistake in the starter code (!!), we may push a change to the code on GitHub.\n",
        "\n",
        "To update your local copy with the latest code, you will use a `git pull` command from any folder within `cmps3160`.\n",
        "\n",
        "Note that this should have no effect right now, since you just cloned the repository moments ago. So, it should just output `Already up to date`."
      ]
    },
    {
      "cell_type": "code",
      "execution_count": null,
      "metadata": {
        "colab": {
          "base_uri": "https://localhost:8080/"
        },
        "id": "8WtnXHeDBO8o",
        "outputId": "e839517b-a5f6-4a72-a9f3-e8fbc4e68148"
      },
      "outputs": [],
      "source": [
        "!git pull"
      ]
    },
    {
      "cell_type": "markdown",
      "metadata": {
        "id": "_TCBo6Xr4DNi"
      },
      "source": [
        "Next, let's change directory to the `_labs/` folder"
      ]
    },
    {
      "cell_type": "code",
      "execution_count": null,
      "metadata": {
        "colab": {
          "base_uri": "https://localhost:8080/"
        },
        "id": "xdZO5VW70A4u",
        "outputId": "c8d8a53f-f712-4f26-9afc-b8b640b6ae4e"
      },
      "outputs": [],
      "source": [
        "%cd _labs\n",
        "!ls"
      ]
    },
    {
      "cell_type": "markdown",
      "metadata": {
        "id": "iKYXQYqH4TRM"
      },
      "source": [
        "The `data` folder contains all the data used for the labs."
      ]
    },
    {
      "cell_type": "code",
      "execution_count": null,
      "metadata": {
        "colab": {
          "base_uri": "https://localhost:8080/"
        },
        "id": "d-NkpimW4jpA",
        "outputId": "257fb0da-078a-4efb-de85-c11439acbe28"
      },
      "outputs": [],
      "source": [
        "!ls data"
      ]
    },
    {
      "cell_type": "markdown",
      "metadata": {
        "id": "00tmjw-w4eYq"
      },
      "source": [
        "The next lab will work with the file `titanic.csv`, which contains information on passengers of the ill-fated Titanic passenger ship. You can use the command `head` to see the first ten lines of this file."
      ]
    },
    {
      "cell_type": "code",
      "execution_count": null,
      "metadata": {
        "colab": {
          "base_uri": "https://localhost:8080/"
        },
        "id": "FWaiyCOv0Cw5",
        "outputId": "626679a4-4d32-4c81-9ae1-259d7c34405d"
      },
      "outputs": [],
      "source": [
        "!head data/titanic.csv"
      ]
    },
    {
      "cell_type": "markdown",
      "metadata": {
        "id": "U6-zRO0CDmKi"
      },
      "source": [
        "We can see that this is a comma-separated file, where each row contains information on a ship passenger."
      ]
    },
    {
      "cell_type": "markdown",
      "metadata": {
        "id": "lt7vmxhLDGof"
      },
      "source": [
        "## Pandas\n",
        "\n",
        "Pandas is a Python library that we will be using extensively to store and analyze data. You can find a brief overview of Pandas [here](https://pandas.pydata.org/docs/user_guide/10min.html).\n",
        "\n",
        "The key data structure in Pandas is the [DataFrame](https://pandas.pydata.org/pandas-docs/stable/reference/api/pandas.DataFrame.html), which is conceptually similar to an Excel spreadsheet.\n",
        "\n",
        "Below, we import the `pandas` library and read `titanic.csv` into a new DataFrame object called `df`.\n",
        "\n",
        "We can print the first ten rows of the DataFrame using the `.head()` command."
      ]
    },
    {
      "cell_type": "code",
      "execution_count": null,
      "metadata": {
        "colab": {
          "base_uri": "https://localhost:8080/",
          "height": 320
        },
        "id": "G6bKHXluQY7J",
        "outputId": "d10821b6-3245-4cad-9e04-df72e72c0e16"
      },
      "outputs": [],
      "source": [
        "import pandas as pd\n",
        "df = pd.read_csv('data/titanic.csv')\n",
        "df.head()"
      ]
    },
    {
      "cell_type": "code",
      "execution_count": null,
      "metadata": {
        "colab": {
          "base_uri": "https://localhost:8080/"
        },
        "id": "n48pVTmMCPF5",
        "outputId": "42844c5e-bbb8-4f90-c28d-02c053281a60"
      },
      "outputs": [],
      "source": [
        "# How many rows are there?\n",
        "len(df)"
      ]
    },
    {
      "cell_type": "markdown",
      "metadata": {
        "id": "nvJeLkUhTweD"
      },
      "source": [
        "In the next labs, will work with DataFrames in more detail. For now, please complete the short exercises below and submit your notebook to Canvas,"
      ]
    },
    {
      "cell_type": "markdown",
      "metadata": {
        "id": "xpV26Ov8Hmes"
      },
      "source": [
        "## Exercises\n",
        "\n",
        "**1. Change the current working directory to the folder in `cmps3160/_demos/data/`.**"
      ]
    },
    {
      "cell_type": "code",
      "execution_count": null,
      "metadata": {
        "id": "vu2Xo2CbIveU"
      },
      "outputs": [],
      "source": [
        "# TODO: %cd /content/drive/My Drive/cmps3160/_demos/data/data"
      ]
    },
    {
      "cell_type": "markdown",
      "metadata": {
        "id": "K696Nd0vJcgw"
      },
      "source": [
        "Expected output: \n",
        "\n",
        "```\n",
        "/content/drive/MyDrive/cmps3160/_demos/data\n",
        "```"
      ]
    },
    {
      "cell_type": "markdown",
      "metadata": {
        "id": "eYygrdVGJShy"
      },
      "source": [
        "**2. List the contents of this directory.**"
      ]
    },
    {
      "cell_type": "code",
      "execution_count": null,
      "metadata": {
        "id": "taIsgHBcJU4F"
      },
      "outputs": [],
      "source": [
        "# TODO: your code here"
      ]
    },
    {
      "cell_type": "markdown",
      "metadata": {
        "id": "Z4yfDGI-JiLy"
      },
      "source": [
        "Expected output:\n",
        "\n",
        "```\n",
        "adult.csv      boundry.png  nba_salaries.csv  review_polarity.zip\n",
        "billboard.csv  iris.csv     nba_stats.csv     titanic.csv\n",
        "bodyfat.csv    iris.png     religon.csv\n",
        "```"
      ]
    },
    {
      "cell_type": "markdown",
      "metadata": {
        "id": "rORN2pB6K9Op"
      },
      "source": [
        "**3. Oh look, there's another `titanic.csv` file in here. Read it into a new DataFrame called `df2` and print the first row.**"
      ]
    },
    {
      "cell_type": "code",
      "execution_count": null,
      "metadata": {
        "id": "wLL7sfzHHorb"
      },
      "outputs": [],
      "source": [
        "# TODO: your code here"
      ]
    },
    {
      "cell_type": "markdown",
      "metadata": {
        "id": "3ff_E3hlImwM"
      },
      "source": [
        "**4. DataFrame objects have a  `.describe()` method that summarizing the data. Run it below:**"
      ]
    },
    {
      "cell_type": "code",
      "execution_count": null,
      "metadata": {
        "id": "yk365pTXRVUL"
      },
      "outputs": [],
      "source": [
        "# TODO: your code here"
      ]
    },
    {
      "cell_type": "markdown",
      "metadata": {
        "id": "f4rLBeYcRb8F"
      },
      "source": [
        "Expected output:\n",
        "\n",
        "\n",
        "|       |      pclass |    survived |       age |       sibsp |       parch |      fare |     body |\n",
        "|:------|------------:|------------:|----------:|------------:|------------:|----------:|---------:|\n",
        "| count | 1309        | 1309        | 1046      | 1309        | 1309        | 1308      | 121      |\n",
        "| mean  |    2.29488  |    0.381971 |   29.8811 |    0.498854 |    0.385027 |   33.2955 | 160.81   |\n",
        "| std   |    0.837836 |    0.486055 |   14.4135 |    1.04166  |    0.86556  |   51.7587 |  97.6969 |\n",
        "| min   |    1        |    0        |    0.1667 |    0        |    0        |    0      |   1      |\n",
        "| 25%   |    2        |    0        |   21      |    0        |    0        |    7.8958 |  72      |\n",
        "| 50%   |    3        |    0        |   28      |    0        |    0        |   14.4542 | 155      |\n",
        "| 75%   |    3        |    1        |   39      |    1        |    0        |   31.275  | 256      |\n",
        "| max   |    3        |    1        |   80      |    8        |    9        |  512.329  | 328      |\n"
      ]
    },
    {
      "cell_type": "markdown",
      "metadata": {
        "id": "wv9ZRCspIXVZ"
      },
      "source": [
        "5. By looking at the output and reading the [method documentation](https://pandas.pydata.org/docs/reference/api/pandas.DataFrame.describe.html) answer the following questions:\n",
        "\n",
        "**5a. What fraction of passengers survived (rounded to two decimal places)?**"
      ]
    },
    {
      "cell_type": "markdown",
      "metadata": {
        "id": "F41NSd76Ryqc"
      },
      "source": [
        "**TODO: Enter a number here.**"
      ]
    },
    {
      "cell_type": "markdown",
      "metadata": {
        "id": "neqZ4JDSR4D3"
      },
      "source": [
        "**5b. What was the median fare (rounded to the nearest dollar)?**"
      ]
    },
    {
      "cell_type": "markdown",
      "metadata": {
        "id": "UKy0CbbPR-KR"
      },
      "source": [
        "**TODO: Enter a number here.**"
      ]
    },
    {
      "cell_type": "markdown",
      "metadata": {
        "id": "XKzkw6CMSRIN"
      },
      "source": [
        "**5c. Were there more 1st class passengers or 3rd class passengers?**"
      ]
    },
    {
      "cell_type": "markdown",
      "metadata": {
        "id": "pPBLYwyeSd_9"
      },
      "source": [
        "**TODO: Enter 1st or 3rd here**"
      ]
    },
    {
      "cell_type": "markdown",
      "metadata": {
        "id": "0qLzN7CdSl57"
      },
      "source": [
        "**To submit:**\n",
        "\n",
        "1. File->Download .ipynb\n",
        "2. Upload the .ipynb file to the appropriate assignment in [Canvas](https://tulane.instructure.com/)"
      ]
    }
  ],
  "metadata": {
    "colab": {
      "collapsed_sections": [],
      "name": "Lab01.ipynb",
      "provenance": []
    },
    "kernelspec": {
      "display_name": "Python 3.8.3 64-bit",
      "language": "python",
      "name": "python3"
    },
    "language_info": {
      "name": "python",
      "version": "3.8.3"
    },
    "vscode": {
      "interpreter": {
        "hash": "aee8b7b246df8f9039afb4144a1f6fd8d2ca17a180786b69acc140d282b71a49"
      }
    }
  },
  "nbformat": 4,
  "nbformat_minor": 0
}
